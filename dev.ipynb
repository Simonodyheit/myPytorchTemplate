{
 "cells": [],
 "metadata": {
  "interpreter": {
   "hash": "cae92610388b79951b7dab319bce1fef99372e9c7a5d3b72bc3dd3147a6c70e7"
  },
  "kernelspec": {
   "display_name": "Python 3.9.7 64-bit ('simon': conda)",
   "language": "python",
   "name": "python3"
  },
  "language_info": {
   "codemirror_mode": {
    "name": "ipython",
    "version": 3
   },
   "file_extension": ".py",
   "mimetype": "text/x-python",
   "name": "python",
   "nbconvert_exporter": "python",
   "pygments_lexer": "ipython3",
   "version": "3.9.7"
  },
  "orig_nbformat": 4
 },
 "nbformat": 4,
 "nbformat_minor": 2
}
